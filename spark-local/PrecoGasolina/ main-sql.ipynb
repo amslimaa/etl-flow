{
 "cells": [
  {
   "cell_type": "code",
   "execution_count": 1,
   "id": "33d5847f-8664-4374-9ce6-6f9b2537174f",
   "metadata": {},
   "outputs": [],
   "source": [
    "from pyspark.sql import SparkSession\n",
    "from pyspark.sql import functions as F"
   ]
  },
  {
   "cell_type": "code",
   "execution_count": 2,
   "id": "dc6544bf-45e1-484e-9bd6-5f56846bb385",
   "metadata": {},
   "outputs": [
    {
     "name": "stderr",
     "output_type": "stream",
     "text": [
      "your 131072x1 screen size is bogus. expect trouble\n",
      "24/07/29 11:35:31 WARN Utils: Your hostname, Home-PC resolves to a loopback address: 127.0.1.1; using 10.255.255.254 instead (on interface lo)\n",
      "24/07/29 11:35:31 WARN Utils: Set SPARK_LOCAL_IP if you need to bind to another address\n",
      "Setting default log level to \"WARN\".\n",
      "To adjust logging level use sc.setLogLevel(newLevel). For SparkR, use setLogLevel(newLevel).\n",
      "24/07/29 11:35:32 WARN NativeCodeLoader: Unable to load native-hadoop library for your platform... using builtin-java classes where applicable\n"
     ]
    }
   ],
   "source": [
    "spark = (\n",
    "    SparkSession\n",
    "    .builder\n",
    "    .master(\"local[*]\")\n",
    "    .appName(\"spark_sql\")\n",
    "    .getOrCreate()\n",
    ")"
   ]
  },
  {
   "cell_type": "code",
   "execution_count": 3,
   "id": "ac77d960-c59c-4da2-85d4-ebcdeb93daac",
   "metadata": {},
   "outputs": [],
   "source": [
    "df = (\n",
    "    spark\n",
    "    .read\n",
    "    .option('delimiter', ';')\n",
    "    .option('header', 'true')\n",
    "    .option('inferSchema', 'true')\n",
    "    .option('enconding', 'ISO-8859-1')\n",
    "    .csv('./dados/precos-gasolina-etanol-04.csv')\n",
    ")"
   ]
  },
  {
   "cell_type": "code",
   "execution_count": 4,
   "id": "aea40ad0-9f00-42b3-9a6d-26eab563632d",
   "metadata": {},
   "outputs": [
    {
     "name": "stdout",
     "output_type": "stream",
     "text": [
      "root\n",
      " |-- Regiao - Sigla: string (nullable = true)\n",
      " |-- Estado - Sigla: string (nullable = true)\n",
      " |-- Municipio: string (nullable = true)\n",
      " |-- Revenda: string (nullable = true)\n",
      " |-- CNPJ da Revenda: string (nullable = true)\n",
      " |-- Nome da Rua: string (nullable = true)\n",
      " |-- Numero Rua: string (nullable = true)\n",
      " |-- Complemento: string (nullable = true)\n",
      " |-- Bairro: string (nullable = true)\n",
      " |-- Cep: string (nullable = true)\n",
      " |-- Produto: string (nullable = true)\n",
      " |-- Data da Coleta: string (nullable = true)\n",
      " |-- Valor de Venda: string (nullable = true)\n",
      " |-- Valor de Compra: string (nullable = true)\n",
      " |-- Unidade de Medida: string (nullable = true)\n",
      " |-- Bandeira: string (nullable = true)\n",
      "\n"
     ]
    }
   ],
   "source": [
    "df.printSchema()"
   ]
  },
  {
   "cell_type": "code",
   "execution_count": 5,
   "id": "19cebd46-809b-41d2-8b3f-c92392b21570",
   "metadata": {},
   "outputs": [],
   "source": [
    "df.createOrReplaceTempView('combustiveis')"
   ]
  },
  {
   "cell_type": "code",
   "execution_count": 6,
   "id": "2d6bb294-473d-4338-94fb-f857723faf91",
   "metadata": {},
   "outputs": [
    {
     "name": "stdout",
     "output_type": "stream",
     "text": [
      "+--------------+------------------+--------------+-----------------+\n",
      "|Estado - Sigla|           Produto|Valor de Venda|Unidade de Medida|\n",
      "+--------------+------------------+--------------+-----------------+\n",
      "|            SP|          GASOLINA|          4,88|       R$ / litro|\n",
      "|            SP|            ETANOL|          3,09|       R$ / litro|\n",
      "|            RS|          GASOLINA|          5,49|       R$ / litro|\n",
      "|            RS|GASOLINA ADITIVADA|          5,49|       R$ / litro|\n",
      "|            RS|            ETANOL|          4,39|       R$ / litro|\n",
      "|            AC|          GASOLINA|          7,33|       R$ / litro|\n",
      "|            AC|GASOLINA ADITIVADA|          7,49|       R$ / litro|\n",
      "|            AC|          GASOLINA|          7,33|       R$ / litro|\n",
      "|            AC|GASOLINA ADITIVADA|          7,43|       R$ / litro|\n",
      "|            AC|            ETANOL|          5,79|       R$ / litro|\n",
      "|            AC|          GASOLINA|          6,79|       R$ / litro|\n",
      "|            AC|GASOLINA ADITIVADA|          6,85|       R$ / litro|\n",
      "|            AC|            ETANOL|          4,79|       R$ / litro|\n",
      "|            AC|          GASOLINA|          6,69|       R$ / litro|\n",
      "|            AC|GASOLINA ADITIVADA|          6,69|       R$ / litro|\n",
      "|            AC|            ETANOL|          4,79|       R$ / litro|\n",
      "|            AC|          GASOLINA|          6,69|       R$ / litro|\n",
      "|            AC|            ETANOL|          4,59|       R$ / litro|\n",
      "|            AC|          GASOLINA|          6,79|       R$ / litro|\n",
      "|            AC|GASOLINA ADITIVADA|          6,84|       R$ / litro|\n",
      "+--------------+------------------+--------------+-----------------+\n",
      "only showing top 20 rows\n",
      "\n"
     ]
    }
   ],
   "source": [
    "spark.sql(\"\"\"\n",
    "    select `Estado - Sigla`, `Produto`, `Valor de Venda`, `Unidade de Medida` from combustiveis\n",
    "\"\"\").show()"
   ]
  },
  {
   "cell_type": "code",
   "execution_count": 7,
   "id": "9195ecfc-d4a7-4e66-89ba-d79ac9b88fd6",
   "metadata": {},
   "outputs": [],
   "source": [
    "view_precos = spark.sql(\"\"\"\n",
    "    select \n",
    "        `Estado - Sigla`\n",
    "        ,`Produto`\n",
    "        ,regexp_replace(`Valor de Venda`, ',', '.') as `Valor de Venda`\n",
    "        ,`Unidade de Medida` \n",
    "        from combustiveis\n",
    "\"\"\")"
   ]
  },
  {
   "cell_type": "code",
   "execution_count": 8,
   "id": "771b3c5d-b5e9-49a8-bd85-552ce228426c",
   "metadata": {},
   "outputs": [
    {
     "name": "stdout",
     "output_type": "stream",
     "text": [
      "+--------------+------------------+--------------+-----------------+\n",
      "|Estado - Sigla|           Produto|Valor de Venda|Unidade de Medida|\n",
      "+--------------+------------------+--------------+-----------------+\n",
      "|            SP|          GASOLINA|          4.88|       R$ / litro|\n",
      "|            SP|            ETANOL|          3.09|       R$ / litro|\n",
      "|            RS|          GASOLINA|          5.49|       R$ / litro|\n",
      "|            RS|GASOLINA ADITIVADA|          5.49|       R$ / litro|\n",
      "|            RS|            ETANOL|          4.39|       R$ / litro|\n",
      "|            AC|          GASOLINA|          7.33|       R$ / litro|\n",
      "|            AC|GASOLINA ADITIVADA|          7.49|       R$ / litro|\n",
      "|            AC|          GASOLINA|          7.33|       R$ / litro|\n",
      "|            AC|GASOLINA ADITIVADA|          7.43|       R$ / litro|\n",
      "|            AC|            ETANOL|          5.79|       R$ / litro|\n",
      "+--------------+------------------+--------------+-----------------+\n",
      "only showing top 10 rows\n",
      "\n"
     ]
    }
   ],
   "source": [
    "view_precos.show(10)"
   ]
  },
  {
   "cell_type": "code",
   "execution_count": 9,
   "id": "a9d1e84b-cab1-4cab-a1c6-51cd9ae31725",
   "metadata": {},
   "outputs": [],
   "source": [
    "view_precos.createOrReplaceTempView('view_precos')"
   ]
  },
  {
   "cell_type": "code",
   "execution_count": 10,
   "id": "aa56221f-fd0d-49b2-9c6d-47ee3b686895",
   "metadata": {},
   "outputs": [],
   "source": [
    "df_diferenca_precos = spark.sql(\"\"\"\n",
    "    select \n",
    "        `Estado - Sigla`\n",
    "        ,`Produto`\n",
    "        ,`Unidade de Medida`\n",
    "        ,MIN(`Valor de Venda`) as menor_valor\n",
    "        ,MAX(`Valor de Venda`) as maior_valor\n",
    "        ,MAX(`Valor de Venda`) - MIN(`Valor de Venda`) as diferenca\n",
    "    from view_precos\n",
    "    group by all\n",
    "    order by diferenca DESC\n",
    "\"\"\")"
   ]
  },
  {
   "cell_type": "code",
   "execution_count": 11,
   "id": "9518e143-6237-4345-856c-a4de2f043456",
   "metadata": {},
   "outputs": [
    {
     "name": "stderr",
     "output_type": "stream",
     "text": [
      "[Stage 4:>                                                          (0 + 3) / 3]\r"
     ]
    },
    {
     "name": "stdout",
     "output_type": "stream",
     "text": [
      "+--------------+------------------+-----------------+-----------+-----------+------------------+\n",
      "|Estado - Sigla|           Produto|Unidade de Medida|menor_valor|maior_valor|         diferenca|\n",
      "+--------------+------------------+-----------------+-----------+-----------+------------------+\n",
      "|            SP|GASOLINA ADITIVADA|       R$ / litro|       4.69|       8.89|               4.2|\n",
      "|            SP|          GASOLINA|       R$ / litro|       4.69|       7.97|3.2799999999999994|\n",
      "|            RJ|GASOLINA ADITIVADA|       R$ / litro|       5.29|       7.79|               2.5|\n",
      "|            SP|            ETANOL|       R$ / litro|       2.85|       5.29|              2.44|\n",
      "|            RJ|          GASOLINA|       R$ / litro|       5.19|       7.59|2.3999999999999995|\n",
      "|            PE|            ETANOL|       R$ / litro|       3.39|       5.69|2.3000000000000003|\n",
      "|            PR|            ETANOL|       R$ / litro|       3.17|       5.39|2.2199999999999998|\n",
      "|            RS|            ETANOL|       R$ / litro|       3.78|       5.99|2.2100000000000004|\n",
      "|            PA|            ETANOL|       R$ / litro|       3.71|        5.9|2.1900000000000004|\n",
      "|            RS|          GASOLINA|       R$ / litro|       5.09|       7.24|2.1500000000000004|\n",
      "|            AL|            ETANOL|       R$ / litro|       3.19|       5.26|              2.07|\n",
      "|            BA|GASOLINA ADITIVADA|       R$ / litro|       5.19|       7.23|              2.04|\n",
      "|            SC|            ETANOL|       R$ / litro|       3.77|       5.79|              2.02|\n",
      "|            MG|            ETANOL|       R$ / litro|       2.99|       4.99|               2.0|\n",
      "|            RS|GASOLINA ADITIVADA|       R$ / litro|       5.09|       7.08|1.9900000000000002|\n",
      "|            AM|          GASOLINA|       R$ / litro|       5.78|        7.7|              1.92|\n",
      "|            AM|GASOLINA ADITIVADA|       R$ / litro|       5.78|       7.69|1.9100000000000001|\n",
      "|            PE|          GASOLINA|       R$ / litro|       5.09|       6.99|1.9000000000000004|\n",
      "|            RJ|            ETANOL|       R$ / litro|       3.55|       5.45|1.9000000000000004|\n",
      "|            BA|            ETANOL|       R$ / litro|       3.69|       5.59|               1.9|\n",
      "+--------------+------------------+-----------------+-----------+-----------+------------------+\n",
      "only showing top 20 rows\n",
      "\n"
     ]
    },
    {
     "name": "stderr",
     "output_type": "stream",
     "text": [
      "                                                                                \r"
     ]
    }
   ],
   "source": [
    "df_diferenca_precos.show()"
   ]
  }
 ],
 "metadata": {
  "kernelspec": {
   "display_name": "Python 3 (ipykernel)",
   "language": "python",
   "name": "python3"
  },
  "language_info": {
   "codemirror_mode": {
    "name": "ipython",
    "version": 3
   },
   "file_extension": ".py",
   "mimetype": "text/x-python",
   "name": "python",
   "nbconvert_exporter": "python",
   "pygments_lexer": "ipython3",
   "version": "3.12.3"
  }
 },
 "nbformat": 4,
 "nbformat_minor": 5
}
