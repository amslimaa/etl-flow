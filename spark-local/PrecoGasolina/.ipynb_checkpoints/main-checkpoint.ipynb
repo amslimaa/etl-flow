{
 "cells": [
  {
   "cell_type": "code",
   "execution_count": 1,
   "id": "33d5847f-8664-4374-9ce6-6f9b2537174f",
   "metadata": {},
   "outputs": [],
   "source": [
    "from pyspark.sql import SparkSession\n",
    "from pyspark.sql import functions as F"
   ]
  },
  {
   "cell_type": "code",
   "execution_count": 2,
   "id": "dc6544bf-45e1-484e-9bd6-5f56846bb385",
   "metadata": {},
   "outputs": [
    {
     "name": "stderr",
     "output_type": "stream",
     "text": [
      "24/05/13 01:48:45 WARN Utils: Your hostname, Home-PC resolves to a loopback address: 127.0.1.1; using 172.21.161.222 instead (on interface eth0)\n",
      "24/05/13 01:48:45 WARN Utils: Set SPARK_LOCAL_IP if you need to bind to another address\n",
      "Setting default log level to \"WARN\".\n",
      "To adjust logging level use sc.setLogLevel(newLevel). For SparkR, use setLogLevel(newLevel).\n",
      "24/05/13 01:48:47 WARN NativeCodeLoader: Unable to load native-hadoop library for your platform... using builtin-java classes where applicable\n",
      "24/05/13 01:48:47 WARN Utils: Service 'SparkUI' could not bind on port 4040. Attempting port 4041.\n"
     ]
    }
   ],
   "source": [
    "spark = (\n",
    "    SparkSession\n",
    "    .builder\n",
    "    .master(\"local[*]\")\n",
    "    .appName(\"spark_dataframe_api\")\n",
    "    .getOrCreate()\n",
    ")"
   ]
  },
  {
   "cell_type": "code",
   "execution_count": 3,
   "id": "ac77d960-c59c-4da2-85d4-ebcdeb93daac",
   "metadata": {},
   "outputs": [],
   "source": [
    "df = (\n",
    "    spark\n",
    "    .read\n",
    "    .option('delimiter', ';')\n",
    "    .option('header', 'true')\n",
    "    .option('inferSchema', 'true')\n",
    "    .option('enconding', 'ISO-8859-1')\n",
    "    .csv('./dados/precos-gasolina-etanol-04.csv')\n",
    ")"
   ]
  },
  {
   "cell_type": "code",
   "execution_count": 4,
   "id": "aea40ad0-9f00-42b3-9a6d-26eab563632d",
   "metadata": {},
   "outputs": [
    {
     "name": "stdout",
     "output_type": "stream",
     "text": [
      "root\n",
      " |-- Regiao - Sigla: string (nullable = true)\n",
      " |-- Estado - Sigla: string (nullable = true)\n",
      " |-- Municipio: string (nullable = true)\n",
      " |-- Revenda: string (nullable = true)\n",
      " |-- CNPJ da Revenda: string (nullable = true)\n",
      " |-- Nome da Rua: string (nullable = true)\n",
      " |-- Numero Rua: string (nullable = true)\n",
      " |-- Complemento: string (nullable = true)\n",
      " |-- Bairro: string (nullable = true)\n",
      " |-- Cep: string (nullable = true)\n",
      " |-- Produto: string (nullable = true)\n",
      " |-- Data da Coleta: string (nullable = true)\n",
      " |-- Valor de Venda: string (nullable = true)\n",
      " |-- Valor de Compra: string (nullable = true)\n",
      " |-- Unidade de Medida: string (nullable = true)\n",
      " |-- Bandeira: string (nullable = true)\n",
      "\n"
     ]
    }
   ],
   "source": [
    "df.printSchema()"
   ]
  },
  {
   "cell_type": "code",
   "execution_count": 5,
   "id": "b3173519-5957-4e66-81a8-9e515573ee50",
   "metadata": {},
   "outputs": [],
   "source": [
    "df_precos = (\n",
    "    df\n",
    "    .select(\"Estado - Sigla\", \"Produto\", \"Valor de Venda\", \"Unidade de Medida\")\n",
    ")"
   ]
  },
  {
   "cell_type": "code",
   "execution_count": 6,
   "id": "fd35db84-f3e9-4db1-8139-06ecc0ae6507",
   "metadata": {},
   "outputs": [
    {
     "name": "stdout",
     "output_type": "stream",
     "text": [
      "+--------------+------------------+--------------+-----------------+\n",
      "|Estado - Sigla|           Produto|Valor de Venda|Unidade de Medida|\n",
      "+--------------+------------------+--------------+-----------------+\n",
      "|            SP|          GASOLINA|          4,88|       R$ / litro|\n",
      "|            SP|            ETANOL|          3,09|       R$ / litro|\n",
      "|            RS|          GASOLINA|          5,49|       R$ / litro|\n",
      "|            RS|GASOLINA ADITIVADA|          5,49|       R$ / litro|\n",
      "|            RS|            ETANOL|          4,39|       R$ / litro|\n",
      "+--------------+------------------+--------------+-----------------+\n",
      "only showing top 5 rows\n",
      "\n"
     ]
    }
   ],
   "source": [
    "df_precos.show(5)"
   ]
  },
  {
   "cell_type": "code",
   "execution_count": 7,
   "id": "598d25dd-077b-4c1f-a399-1427765c2442",
   "metadata": {},
   "outputs": [],
   "source": [
    "df_precos = (\n",
    "    df\n",
    "    .select(\"Estado - Sigla\", \"Produto\", \"Valor de Venda\", \"Unidade de Medida\")\n",
    "    .withColumn(\n",
    "        \"Valor de Venda\",\n",
    "        F.regexp_replace(F.col(\"Valor de Venda\"), \",\", \".\")\n",
    "        .cast(\"float\")\n",
    "    )\n",
    ")"
   ]
  },
  {
   "cell_type": "code",
   "execution_count": 8,
   "id": "508ce630-3395-40d1-9ec3-14cc18daa8f4",
   "metadata": {},
   "outputs": [],
   "source": [
    "df_precos_analise = (\n",
    "    df_precos\n",
    "    .groupBy(\n",
    "        F.col('Estado - Sigla'),\n",
    "        F.col('Produto'),\n",
    "        F.col('Unidade de Medida')\n",
    "    )\n",
    "    .agg(\n",
    "        F.min(F.col(\"Valor de Venda\")).alias('menor_valor'),\n",
    "        F.max(F.col(\"Valor de Venda\")).alias('maior_valor')\n",
    "    )\n",
    "    .withColumn(\n",
    "        \"diferenca\",\n",
    "        F.col('menor_valor') - F.col('maior_valor')\n",
    "    )\n",
    "    .orderBy('diferenca', ascending=False)\n",
    ")\n"
   ]
  },
  {
   "cell_type": "code",
   "execution_count": 9,
   "id": "ec8477a4-6441-4c5a-85ec-2b3ec01bea00",
   "metadata": {},
   "outputs": [
    {
     "name": "stdout",
     "output_type": "stream",
     "text": [
      "+--------------+------------------+-----------------+-----------+-----------+------------+\n",
      "|Estado - Sigla|           Produto|Unidade de Medida|menor_valor|maior_valor|   diferenca|\n",
      "+--------------+------------------+-----------------+-----------+-----------+------------+\n",
      "|            RR|          GASOLINA|       R$ / litro|       6.15|       6.19| -0.03999996|\n",
      "|            AP|            ETANOL|       R$ / litro|       4.94|       4.99|-0.049999714|\n",
      "|            RR|            ETANOL|       R$ / litro|       4.79|       4.87| -0.07999992|\n",
      "|            RR|GASOLINA ADITIVADA|       R$ / litro|       6.15|       6.37| -0.21999979|\n",
      "|            AP|GASOLINA ADITIVADA|       R$ / litro|       5.82|       6.15| -0.32999992|\n",
      "|            AP|          GASOLINA|       R$ / litro|       5.45|       5.99| -0.53999996|\n",
      "|            PI|          GASOLINA|       R$ / litro|       5.34|       5.95| -0.60999966|\n",
      "|            DF|          GASOLINA|       R$ / litro|       5.36|       5.99| -0.62999964|\n",
      "|            AM|            ETANOL|       R$ / litro|       4.19|       4.86|  -0.6700001|\n",
      "|            SE|          GASOLINA|       R$ / litro|       5.79|       6.49|  -0.6999998|\n",
      "|            AC|          GASOLINA|       R$ / litro|       6.69|        7.4| -0.71000004|\n",
      "|            PB|GASOLINA ADITIVADA|       R$ / litro|       5.44|       6.15| -0.71000004|\n",
      "|            RO|            ETANOL|       R$ / litro|       4.41|       5.19|  -0.7800002|\n",
      "|            AC|GASOLINA ADITIVADA|       R$ / litro|       6.69|       7.49|  -0.7999997|\n",
      "|            PB|            ETANOL|       R$ / litro|       3.79|        4.6| -0.80999994|\n",
      "|            TO|          GASOLINA|       R$ / litro|       5.54|       6.39|  -0.8499999|\n",
      "|            DF|GASOLINA ADITIVADA|       R$ / litro|       5.44|       6.29|  -0.8499999|\n",
      "|            PI|            ETANOL|       R$ / litro|       3.75|       4.61| -0.86000013|\n",
      "|            PB|          GASOLINA|       R$ / litro|       5.09|       5.99|  -0.8999996|\n",
      "|            SE|            ETANOL|       R$ / litro|       3.99|       4.89| -0.89999986|\n",
      "+--------------+------------------+-----------------+-----------+-----------+------------+\n",
      "only showing top 20 rows\n",
      "\n"
     ]
    }
   ],
   "source": [
    "df_precos_analise.show()"
   ]
  }
 ],
 "metadata": {
  "kernelspec": {
   "display_name": "Python 3 (ipykernel)",
   "language": "python",
   "name": "python3"
  },
  "language_info": {
   "codemirror_mode": {
    "name": "ipython",
    "version": 3
   },
   "file_extension": ".py",
   "mimetype": "text/x-python",
   "name": "python",
   "nbconvert_exporter": "python",
   "pygments_lexer": "ipython3",
   "version": "3.12.3"
  }
 },
 "nbformat": 4,
 "nbformat_minor": 5
}
